{
 "cells": [
  {
   "cell_type": "markdown",
   "metadata": {},
   "source": [
    "# Finance Chatbot\n",
    "This is a chatbot to assist kenyans know more about the banks in the country."
   ]
  },
  {
   "cell_type": "code",
   "execution_count": 1,
   "metadata": {},
   "outputs": [],
   "source": [
    "import pandas as pd\n",
    "import spacy\n",
    "import transformers \n",
    "import requests\n",
    "import json\n",
    "from bs4 import BeautifulSoup\n",
    "import streamlit as st \n",
    "import os\n",
    "from datasets import load_dataset\n",
    "from transformers import LlamaTokenizer, LlamaForCausalLM\n"
   ]
  },
  {
   "cell_type": "code",
   "execution_count": 2,
   "metadata": {},
   "outputs": [
    {
     "name": "stderr",
     "output_type": "stream",
     "text": [
      "Found cached dataset json (/home/marwa254/.cache/huggingface/datasets/json/default-1409bde2ada223f8/0.0.0/e347ab1c932092252e717ff3f949105a4dd28b27e842dd53157d2f72e276c2e4)\n"
     ]
    },
    {
     "data": {
      "application/vnd.jupyter.widget-view+json": {
       "model_id": "b1a3561c1cbb43689837c9a77930b02b",
       "version_major": 2,
       "version_minor": 0
      },
      "text/plain": [
       "  0%|          | 0/1 [00:00<?, ?it/s]"
      ]
     },
     "metadata": {},
     "output_type": "display_data"
    }
   ],
   "source": [
    "token_chacha = os.getenv('HF_TOKEN')\n",
    "API_URL = \"https://api-inference.huggingface.co/models/EleutherAI/gpt-neo-1.3B\"\n",
    "headers = {\"Authorization\": f\"Bearer {token_chacha}\"}\n",
    "\n",
    "\n",
    "\n",
    "dataset = load_dataset('json', data_files='./data/intents.json')"
   ]
  },
  {
   "cell_type": "code",
   "execution_count": null,
   "metadata": {},
   "outputs": [],
   "source": [
    "# Load the tokenizer and the model\n",
    "tokenizer = LlamaTokenizer.from_pretrained(\"hf-internal-testing/llama-tokenizer\")\n",
    "model = LlamaForCausalLM.from_pretrained(\"huggyllama/llama-7b\")\n",
    "\n",
    "input_text = \"Tell me about the major banks in Kenya.\"\n",
    "\n",
    "#tokenize\n",
    "inputs = tokenizer(input_text, return_tensors=\"pt\")\n",
    "\n",
    "#text generation\n",
    "output = model.generate(**inputs, max_length=100, do_sample=True)\n",
    "\n",
    "#decode\n",
    "output_text = tokenizer.decode(output[0], skip_special_tokens=True)\n",
    "output_text"
   ]
  },
  {
   "cell_type": "markdown",
   "metadata": {},
   "source": [
    "Still in production `...`"
   ]
  }
 ],
 "metadata": {
  "kernelspec": {
   "display_name": "base",
   "language": "python",
   "name": "python3"
  },
  "language_info": {
   "codemirror_mode": {
    "name": "ipython",
    "version": 3
   },
   "file_extension": ".py",
   "mimetype": "text/x-python",
   "name": "python",
   "nbconvert_exporter": "python",
   "pygments_lexer": "ipython3",
   "version": "3.11.4"
  }
 },
 "nbformat": 4,
 "nbformat_minor": 2
}
